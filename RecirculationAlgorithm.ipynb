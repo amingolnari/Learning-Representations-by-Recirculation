{
  "nbformat": 4,
  "nbformat_minor": 0,
  "metadata": {
    "colab": {
      "name": "RecirculationAlgorithm.ipynb",
      "provenance": [],
      "collapsed_sections": []
    },
    "kernelspec": {
      "name": "python3",
      "display_name": "Python 3"
    },
    "language_info": {
      "name": "python"
    }
  },
  "cells": [
    {
      "cell_type": "markdown",
      "source": [
        "[![Open In Colab](https://colab.research.google.com/assets/colab-badge.svg)](https://colab.research.google.com/github/amingolnari/Learning-Representations-by-Recirculation/blob/main/RecirculationAlgorithm.ipynb)"
      ],
      "metadata": {
        "id": "5QTiaCor3J_n"
      }
    },
    {
      "cell_type": "markdown",
      "source": [
        "# **LEARNING REPRESENTATIONS BY RECIRCULATION**\n",
        "\n",
        "**Geoffrey E. Hinton**\n",
        "\n",
        "* *Computer Science and Psychology Departments, University of Toronto, \n",
        "Toronto M5S lA4, Canada*\n",
        "\n",
        "**James L. McClelland** \n",
        "\n",
        "* *Psychology and Computer Science Departments, Carnegie-Mellon University, \n",
        "Pittsburgh, PA 15213*\n",
        "\n",
        "*-You can read the abstract at the end of this file*"
      ],
      "metadata": {
        "id": "0UfV2-toZK8B"
      }
    },
    {
      "cell_type": "markdown",
      "source": [
        "**Import requirements**"
      ],
      "metadata": {
        "id": "6Nk3KyAoS_H0"
      }
    },
    {
      "cell_type": "code",
      "execution_count": 1,
      "metadata": {
        "id": "d2Ym4Rvh_18B"
      },
      "outputs": [],
      "source": [
        "import numpy as np\n",
        "import matplotlib.pyplot as plt\n",
        "from tqdm import tqdm\n",
        "from typing import Union\n",
        "import numpy.typing as npt\n",
        "%matplotlib inline"
      ]
    },
    {
      "cell_type": "markdown",
      "source": [
        "**Update Matplotlib parameters for a better representation**"
      ],
      "metadata": {
        "id": "rKA3hSadTOJH"
      }
    },
    {
      "cell_type": "code",
      "source": [
        "plt.style.use('seaborn')\n",
        "plt.rcParams.update({'figure.figsize': [10., 6.], 'font.size': 20, 'axes.titlesize': 20, 'axes.labelsize': 20, \n",
        "                     'xtick.labelsize': 20, 'ytick.labelsize': 20, 'legend.fontsize': 20})"
      ],
      "metadata": {
        "id": "ah4iuY1J5MLH"
      },
      "execution_count": 2,
      "outputs": []
    },
    {
      "cell_type": "markdown",
      "source": [
        "**Define a method to add threshold**"
      ],
      "metadata": {
        "id": "whoI2tiyTq9y"
      }
    },
    {
      "cell_type": "code",
      "source": [
        "def thresh(x, shape, thr = 1):\n",
        "    \"\"\"\n",
        "    :param x:\n",
        "        -- list or numpy-array\n",
        "    input array to insert threshold for each nodes\n",
        "    :param shape:\n",
        "        -- integer\n",
        "    The shape of input\n",
        "    :param thr:\n",
        "        -- float or int\n",
        "    Desired value for inserting threshold to each node\n",
        "    :return:\n",
        "    \"\"\"\n",
        "    return np.append(x, np.asarray([thr]*shape).reshape(shape, 1), axis = 1)"
      ],
      "metadata": {
        "id": "-c8gGX3gEBcc"
      },
      "execution_count": 3,
      "outputs": []
    },
    {
      "cell_type": "markdown",
      "source": [
        "**Define a class for implimenting recirculation algorithm**"
      ],
      "metadata": {
        "id": "kkht5GhMT3X5"
      }
    },
    {
      "cell_type": "code",
      "source": [
        "class Recirculation:\n",
        "    def __init__(self, input_shape: int, hidden_units: Union[int, list] = 4, activation: str = 'linear', learning_rate: float = 1., regression_rate: float = .75):\n",
        "        \"\"\"\n",
        "        :param input_shape:\n",
        "            -- integer (The shape of the input)\n",
        "        The input shape should be 1D, so you have to pass the input_shape to the class as an integer.\n",
        "        :param hidden_units:\n",
        "            -- integer, list or (1D) numpy-array. (The number of hidden units and layers)\n",
        "        This parameter specifies the number of layers and number of neurons in each layer. You will have just one layer with an\n",
        "        N-number nodes if you set it as an integer N. Otherwise, You will have a model with the number of layers equal to the length\n",
        "        of hidden_units, where each element represent the number of neurons in that layer if you set it as a list or an numpy-array.\n",
        "        default: 4\n",
        "        :param activation:\n",
        "            -- string (The activation function)\n",
        "        This parameter set an activation function to the layers. You have to pass it to the class as a string.\n",
        "        possible functions you can choose: {'linear', 'relu', 'sigmoid', 'tanh'}.\n",
        "        default: linear\n",
        "        :param learning_rate:\n",
        "            -- float (The learning rate)\n",
        "        You can set a learning rate by passing this parameter to the class. This parameter can be any but chose a float value.\n",
        "        default: 1.0\n",
        "        :param regression_rate:\n",
        "            -- float (The regression rate)\n",
        "        You can set a regression rate by passing this parameter to the class. This parameter can be any but chose a float value.\n",
        "        The paper mentioned it with a value of 0.75.\n",
        "        default: 0.75\n",
        "        :return:\n",
        "            -- Nothing! :-)\n",
        "        \"\"\"\n",
        "        list_of_activation_functions = ['sigmoid', 'relu', 'tanh', 'linear']\n",
        "        if activation not in list_of_activation_functions:\n",
        "            raise ValueError(f'You have to choose one of the following activation functions:\\n{list_of_activation_functions}\\nYou are trying to pass the parameter {activation}')\n",
        "        self.lr_ = learning_rate  # Set learning rate.\n",
        "        self.reg_ = regression_rate  # Set regression rate.\n",
        "\n",
        "        # Modifying hidden units shape by inserting output shape precisely as same as the input shape.\n",
        "        if type(hidden_units) == int:\n",
        "            hidden_units = np.append(np.asarray([hidden_units]), input_shape)\n",
        "        elif type(hidden_units) == list:\n",
        "            hidden_units.append(input_shape)\n",
        "        elif type(hidden_units).__name__ == 'ndarray':\n",
        "            hidden_units = np.append(hidden_units, input_shape)\n",
        "        else:\n",
        "            raise ValueError(f'You have to set the hidden_units parameter as type of list or integer. The type of parameter you are trying to pass is {type(hidden_units)}')\n",
        "        self.nh_ = np.asarray(hidden_units)\n",
        "\n",
        "        # Weight random initialization using a uniform distribution with values between -.5-.5.\n",
        "        self.w_ = [np.random.uniform(-.5, .5, (input_shape + 1, hidden_units[0]))]\n",
        "        for n in range(int(len(hidden_units) - 1)):\n",
        "            self.w_.append(np.random.uniform(-.5, .5, (hidden_units[n] + 1, hidden_units[n + 1])))\n",
        "\n",
        "        # Set input shape.\n",
        "        self.shape_ = input_shape\n",
        "\n",
        "        # Save mean squared error.\n",
        "        self.err = []\n",
        "\n",
        "        if activation == 'sigmoid':\n",
        "            self.acf_ = lambda x: 1 / (1 + np.exp(-x))  # Sigmoid output values are between 0-1.\n",
        "        elif activation == 'relu':\n",
        "            self.acf_ = lambda x: x * (x > 0)  # ReLU activation function ignores negative values you can use max(0, x).\n",
        "        elif activation == 'tanh':\n",
        "            self.acf_ = lambda x: np.tanh(x)  # Tanh output values are in the range -1 to 1.\n",
        "        elif activation == 'linear':\n",
        "            self.acf_ = lambda x: x  # Linear output values are exactly as same as the input.\n",
        "        self.acfn_ = activation\n",
        "\n",
        "    def fit(self, x_data: Union[list, npt.NDArray], epochs: int = 200):\n",
        "        \"\"\"\n",
        "        :param x_data:\n",
        "            -- list or (1D) numpy-array (The training data)\n",
        "        Input training data. You can pass the data as a list or 2D numpy-array to the class by setting this parameter.\n",
        "        :param epochs:\n",
        "            -- integer (The number of epochs for training phase)\n",
        "        The number of epoch for training phase.\n",
        "        :return:\n",
        "        \"\"\"\n",
        "        if len(list(x_data.shape)) > 2:\n",
        "            raise ValueError(f'The input data should be a 2D array such as the following data:\\n{np.eye(2)}\\nYou are trying to pass an input data with a shape of:\\n{x_data.shape}')\n",
        "        if epochs < 1:\n",
        "            raise ValueError(f'Please set the epochs as a positive integer greater than 1. You are trying to pass a parameter {epochs}!')\n",
        "        for _ in tqdm(range(epochs)):\n",
        "            # Computing the output of the layers at the first state.\n",
        "            temp_data = [x_data]\n",
        "            for n in range(len(self.nh_) - 1):\n",
        "                temp_data.append(self.acf_(thresh(temp_data[n], self.shape_) @ self.w_[n]))\n",
        "            # Approximating the gradient descent at the second state.\n",
        "            for n in range(len(self.nh_)):\n",
        "                temp_data.append((self.reg_ * temp_data[n]) + ((1 - self.reg_) * self.acf_(thresh(temp_data[n + len(self.nh_) - 1], self.shape_) @ self.w_[n - 1])))\n",
        "            # Update weights based on approximated GD.\n",
        "            for n in range(len(self.nh_)):\n",
        "                self.w_[n - 1] += self.lr_ * thresh(temp_data[n + len(self.nh_) - 1], self.shape_).T @ (temp_data[n] - temp_data[n + len(self.nh_)])\n",
        "            # Computing mean squared error.\n",
        "            self.err.append(np.sum(((temp_data[len(self.nh_)] - temp_data[0]) ** 2) / 2))\n",
        "            del temp_data\n",
        "        return self.err\n",
        "\n",
        "    # This function returns layer weights based on the layer index.\n",
        "    def get_layer_weights(self, layer_index: int = -1):\n",
        "        \"\"\"\n",
        "        :param layer_index:\n",
        "            -- integer\n",
        "        This parameter gets the index of the layer to returns the weights of layer layer_index, so it should be an integer.\n",
        "        If you are going to get the weights of layer n, set this parameter to n.\n",
        "        :return:\n",
        "            -- list\n",
        "        The weights of layer layer_index.\n",
        "        \"\"\"\n",
        "        if layer_index > len(self.w_)-1:\n",
        "            raise ValueError(f'The index you have chosen is out of length. Maximum possible value for layer_index is {len(self.w_)-1}, you set layer_index to {layer_index}')\n",
        "        return self.w_[layer_index][:-1]\n",
        "\n",
        "    # This function returns layer output based on the layer index\n",
        "    def get_layer_output(self, x_data: Union[list, npt.NDArray], layer_index: int = -1, get_reconstruction_error: bool = False):\n",
        "        \"\"\"\n",
        "        :param x_data:\n",
        "            -- list or (1D) numpy-array (The training data)\n",
        "        Input training data. You can pass the data as a list or 2D numpy-array to the class by setting this parameter.\n",
        "        :param layer_index:\n",
        "            -- integer\n",
        "        This parameter gets the index of the layer to returns the output of layer layer_index, so it should be an integer.\n",
        "        If you are going to get the weights of layer n, set this parameter to n.\n",
        "        :param get_reconstruction_error:\n",
        "            -- boolean\n",
        "        It true, then you can get reconstruction error of layer layer_index.\n",
        "        :return:\n",
        "            -- layer output (and reconstruction error)\n",
        "        \"\"\"\n",
        "        if len(list(x_data.shape)) > 2:\n",
        "            raise ValueError(f'The input data should be a 2D array such as the following data:\\n{np.eye(2)}\\nYou are trying to pass an input data with a shape of:\\n{x_data.shape}')\n",
        "        if layer_index > len(self.nh_):\n",
        "            raise ValueError(f'The index you have chosen is out of length. Maximum possible value for layer_index is {len(self.nh_)}, you set layer_index to {layer_index}')\n",
        "        temp_data = [x_data]\n",
        "        for n in range(len(self.nh_)):\n",
        "            temp_data.append(self.acf_(thresh(temp_data[n], self.shape_) @ self.w_[n]))\n",
        "        if get_reconstruction_error:\n",
        "            return temp_data[layer_index], temp_data[-1]\n",
        "        else:\n",
        "            return temp_data[layer_index]\n",
        "\n",
        "    # This function returns model output\n",
        "    def predict(self, test_data: Union[list, npt.NDArray], true_val: bool = True):\n",
        "        \"\"\"\n",
        "        :param test_data:\n",
        "            -- list or (1D) numpy-array (The testing data)\n",
        "        Input testing data. You can pass the data as a list or 2D numpy-array to the class by setting this parameter.\n",
        "        Therefore you can get the output of the model according to the input of test_data\n",
        "        :param true_val:\n",
        "            -- boolean\n",
        "        If true, returns the actual output without decoding. Otherwise, returns decoded output using argmax\n",
        "        :return:\n",
        "        \"\"\"\n",
        "        if len(list(test_data.shape)) > 2:\n",
        "            raise ValueError(f'The input data should be a 2D array such as the following data:\\n{np.eye(2)}\\nYou are trying to pass an input data with a shape of:\\n{test_data.shape}')\n",
        "        temp_data = [test_data]\n",
        "        for n in range(len(self.nh_)):  # If you are going to get logical output set true_val = False\n",
        "            temp_data.append(self.acf_(thresh(temp_data[n], self.shape_) @ self.w_[n]))\n",
        "        if not true_val:\n",
        "            return np.eye(self.shape_)[np.argmax(temp_data[-1], axis = 1)]\n",
        "        else:\n",
        "            return temp_data[-1]\n",
        "\n",
        "    # By calling this function you can plot the training error\n",
        "    def plot_error(self):\n",
        "        \"\"\"\n",
        "        :return:\n",
        "            -- A graph shows mean squared error during training phase\n",
        "        \"\"\"\n",
        "        x = np.arange(1, len(self.err) + 1, step = 1)\n",
        "        plt.plot(x, self.err, label = 'MSE', linewidth = 2, color = 'r')\n",
        "        plt.axhline(y = .1, color = 'b', linestyle = '-.')\n",
        "        plt.vlines(x = 48, ymin = 0, ymax = self.err[47], color = 'g', linestyle = '-.')\n",
        "        plt.text(x = 49, y = self.err[47] * 1.01, s = f'Epoch: 48 - MSE: {self.err[47]:.4f}!')\n",
        "        plt.text(x = 10, y = .101, s = f'MSE: 0.1')\n",
        "        plt.title(f'Training History (Activation: {self.acfn_})')\n",
        "        plt.ylabel('Mean Squared Error')\n",
        "        plt.xlabel('Epoch')\n",
        "        plt.xticks(x[::9])\n",
        "        plt.xlim([0, 101])\n",
        "        plt.ylim([np.min(self.err) * .8, np.max(self.err) * 1.01])\n",
        "        plt.legend()\n",
        "        plt.show()"
      ],
      "metadata": {
        "id": "MNtAOf2TxYmH"
      },
      "execution_count": 4,
      "outputs": []
    },
    {
      "cell_type": "markdown",
      "source": [
        "**Set inputs as mentioned in the paper:**\n",
        "*   \"...The visible vectors were **1000**, **0100**, **0010** and **0001**...\"\n",
        "\n"
      ],
      "metadata": {
        "id": "_RgsAfV9UPzZ"
      }
    },
    {
      "cell_type": "code",
      "source": [
        "train_data = np.eye(4)\n",
        "train_data"
      ],
      "metadata": {
        "colab": {
          "base_uri": "https://localhost:8080/"
        },
        "id": "lzW0UNSwxYkB",
        "outputId": "e31ddd9f-8a9c-41f1-9d51-2a4413b1a30f"
      },
      "execution_count": 5,
      "outputs": [
        {
          "output_type": "execute_result",
          "data": {
            "text/plain": [
              "array([[1., 0., 0., 0.],\n",
              "       [0., 1., 0., 0.],\n",
              "       [0., 0., 1., 0.],\n",
              "       [0., 0., 0., 1.]])"
            ]
          },
          "metadata": {},
          "execution_count": 5
        }
      ]
    },
    {
      "cell_type": "markdown",
      "source": [
        "**Set Parameters of training according to page 363**\n",
        "\n",
        "Somewhere on page 363 have written:\n",
        "*   ... the 2 hidden units ...\n",
        "*   ... $\\lambda$ of 0.75 ...\n",
        "*   ... \n",
        "\n",
        "\n",
        "\n"
      ],
      "metadata": {
        "id": "aiQf-oUpUvDg"
      }
    },
    {
      "cell_type": "code",
      "source": [
        "params = {\n",
        "    'input_shape':          train_data.shape[0],\n",
        "    'hidden_units':         2,\n",
        "    'activation_function':  'sigmoid',\n",
        "    'learning_rate':        1.,\n",
        "    'regression_rate':      .75,\n",
        "    'epochs':               100\n",
        "}"
      ],
      "metadata": {
        "id": "S-VKTuaQ8QNf"
      },
      "execution_count": 6,
      "outputs": []
    },
    {
      "cell_type": "markdown",
      "source": [
        "**Pass arguments to the defined class**"
      ],
      "metadata": {
        "id": "282BtTn_WzLi"
      }
    },
    {
      "cell_type": "code",
      "source": [
        "ac = Recirculation(input_shape = params['input_shape'], \n",
        "                   hidden_units = params['hidden_units'], \n",
        "                   activation = params['activation_function'], \n",
        "                   learning_rate = params['learning_rate'], \n",
        "                   regression_rate = params['regression_rate'])"
      ],
      "metadata": {
        "id": "ZOc5To_HxYhq"
      },
      "execution_count": 7,
      "outputs": []
    },
    {
      "cell_type": "markdown",
      "source": [
        "**Fit the model**"
      ],
      "metadata": {
        "id": "qEZjgK_jXG7Q"
      }
    },
    {
      "cell_type": "code",
      "source": [
        "hist = ac.fit(train_data, epochs = params['epochs'])"
      ],
      "metadata": {
        "colab": {
          "base_uri": "https://localhost:8080/"
        },
        "id": "opfCQCq9QVoB",
        "outputId": "58432649-c93e-406c-9ced-7b9cad68ccf9"
      },
      "execution_count": 8,
      "outputs": [
        {
          "output_type": "stream",
          "name": "stderr",
          "text": [
            "100%|██████████| 100/100 [00:00<00:00, 7725.60it/s]\n"
          ]
        }
      ]
    },
    {
      "cell_type": "markdown",
      "source": [
        "**Graph mean squared error over training**\n",
        "\n",
        "**-NOTE:** *According to my understanding of the paper, the error reached less than 0.1 at epoch 48, based on page 363!*\n",
        "\n",
        "*  *...reconstruction error of less than 0.1 on every unit in an **average** of 48 weight updates...*"
      ],
      "metadata": {
        "id": "jUK8ghFhXL0B"
      }
    },
    {
      "cell_type": "code",
      "source": [
        "ac.plot_error()"
      ],
      "metadata": {
        "colab": {
          "base_uri": "https://localhost:8080/",
          "height": 427
        },
        "id": "ltyMXjvOdsC-",
        "outputId": "a702fe6d-a9cb-4263-d71d-aaa1aa2287b0"
      },
      "execution_count": 9,
      "outputs": [
        {
          "output_type": "display_data",
          "data": {
            "text/plain": [
              "<Figure size 720x432 with 1 Axes>"
            ],
            "image/png": "[encoded data removed]"
          },
          "metadata": {}
        }
      ]
    },
    {
      "cell_type": "markdown",
      "source": [
        "**Get the actual output of the model**"
      ],
      "metadata": {
        "id": "jaarZFSGXi9q"
      }
    },
    {
      "cell_type": "code",
      "source": [
        "y_pred = ac.predict(test_data = train_data, true_val = True)\n",
        "y_pred"
      ],
      "metadata": {
        "id": "EVSCeN_ij4fm",
        "colab": {
          "base_uri": "https://localhost:8080/"
        },
        "outputId": "dd0a902a-8070-42f5-8e40-e4be19fbe545"
      },
      "execution_count": 10,
      "outputs": [
        {
          "output_type": "execute_result",
          "data": {
            "text/plain": [
              "array([[0.37599477, 0.34741331, 0.19261687, 0.13145187],\n",
              "       [0.3167823 , 0.35278856, 0.21916696, 0.10784961],\n",
              "       [0.14054937, 0.19339663, 0.32296295, 0.26000513],\n",
              "       [0.12006305, 0.12095582, 0.33171542, 0.50584528]])"
            ]
          },
          "metadata": {},
          "execution_count": 10
        }
      ]
    },
    {
      "cell_type": "markdown",
      "source": [
        "**Get decoded (argmax) output of the model**"
      ],
      "metadata": {
        "id": "hGcxuMI_YSCO"
      }
    },
    {
      "cell_type": "code",
      "source": [
        "y_pred = ac.predict(test_data = train_data, true_val = False)\n",
        "y_pred"
      ],
      "metadata": {
        "colab": {
          "base_uri": "https://localhost:8080/"
        },
        "id": "4O5t2CW6G45X",
        "outputId": "9395a83b-8bba-43cb-bfdd-400c4def1020"
      },
      "execution_count": 11,
      "outputs": [
        {
          "output_type": "execute_result",
          "data": {
            "text/plain": [
              "array([[1., 0., 0., 0.],\n",
              "       [0., 1., 0., 0.],\n",
              "       [0., 0., 1., 0.],\n",
              "       [0., 0., 0., 1.]])"
            ]
          },
          "metadata": {},
          "execution_count": 11
        }
      ]
    },
    {
      "cell_type": "markdown",
      "source": [
        "# **ABSTRACT**\n",
        "\n",
        "*We describe a new learning procedure for networks that contain groups of non- linear units arranged in a closed loop. The aim of  the learning  is to discover  codes that allow the activity vectors in a \"visible\" group to be  represented  by  activity vectors in a \"hidden\" group. One way to test whether a code is an accurate representation is to try to reconstruct the visible vector from the hidden vector. The difference between the original and the reconstructed visible vectors is called the reconstruction error, and ihe learning procedure aims to minimize this error. The learning procedure has two passes. On the first  pass,  the  original  visible  vector  is passed around the loop, and on the second pass an average of the origirial vector and the reconstructed vector is passed around  the  loop.  The  learning  procedure  changes each weight by an amount proportional to the product of the  \"presynaptic\"  actiYity and the difference in the post-synaptic activity on the two passes. This procedure is much simpler to implement than methods like back-propagation.  Simulations  in simple networks show that it usually converges rapidly on a good set of codes, and analysis shows that in certain restricted cases it performs gradient descent in  the squared reconstruction error.*"
      ],
      "metadata": {
        "id": "SYz5S7qma9w7"
      }
    },
    {
      "cell_type": "markdown",
      "source": [
        "**Paper link**\n",
        "\n",
        "https://proceedings.neurips.cc/paper/1987/file/35f4a8d465e6e1edc05f3d8ab658c551-Paper.pdf"
      ],
      "metadata": {
        "id": "gotqCCGZ4Sjm"
      }
    },
    {
      "cell_type": "code",
      "source": [
        ""
      ],
      "metadata": {
        "id": "FmJ3-nKe4hs-"
      },
      "execution_count": 11,
      "outputs": []
    }
  ]
}