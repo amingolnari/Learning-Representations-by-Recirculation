{
  "nbformat": 4,
  "nbformat_minor": 0,
  "metadata": {
    "colab": {
      "name": "RecirculationAlgorithm.ipynb",
      "provenance": [],
      "collapsed_sections": []
    },
    "kernelspec": {
      "name": "python3",
      "display_name": "Python 3"
    },
    "language_info": {
      "name": "python"
    }
  },
  "cells": [
    {
      "cell_type": "markdown",
      "source": [
        "[![Open In Colab](https://colab.research.google.com/assets/colab-badge.svg)](https://colab.research.google.com/github/amingolnari/Learning-Representations-by-Recirculation/blob/main/RecirculationAlgorithm.ipynb)"
      ],
      "metadata": {
        "id": "5QTiaCor3J_n"
      }
    },
    {
      "cell_type": "markdown",
      "source": [
        "# **LEARNING REPRESENTATIONS BY RECIRCULATION**\n",
        "\n",
        "**Geoffrey E. Hinton**\n",
        "\n",
        "* *Computer Science and Psychology Departments, University of Toronto, \n",
        "Toronto M5S lA4, Canada*\n",
        "\n",
        "**James L. McClelland** \n",
        "\n",
        "* *Psychology and Computer Science Departments, Carnegie-Mellon University, \n",
        "Pittsburgh, PA 15213*\n",
        "\n",
        "*-You can read the abstract at the end of this file*"
      ],
      "metadata": {
        "id": "0UfV2-toZK8B"
      }
    },
    {
      "cell_type": "markdown",
      "source": [
        "**Import requirements**"
      ],
      "metadata": {
        "id": "6Nk3KyAoS_H0"
      }
    },
    {
      "cell_type": "code",
      "execution_count": 1,
      "metadata": {
        "id": "d2Ym4Rvh_18B"
      },
      "outputs": [],
      "source": [
        "import numpy as np\n",
        "import matplotlib.pyplot as plt\n",
        "from tqdm import tqdm\n",
        "%matplotlib inline"
      ]
    },
    {
      "cell_type": "markdown",
      "source": [
        "**Update Matplotlib parameters for a better representation**"
      ],
      "metadata": {
        "id": "rKA3hSadTOJH"
      }
    },
    {
      "cell_type": "code",
      "source": [
        "plt.style.use('seaborn')\n",
        "plt.rcParams.update({'figure.figsize': [10., 6.], 'font.size': 20, 'axes.titlesize': 20, 'axes.labelsize': 20, \n",
        "                     'xtick.labelsize': 20, 'ytick.labelsize': 20, 'legend.fontsize': 20})"
      ],
      "metadata": {
        "id": "ah4iuY1J5MLH"
      },
      "execution_count": 2,
      "outputs": []
    },
    {
      "cell_type": "markdown",
      "source": [
        "**Define a method to add threshold**"
      ],
      "metadata": {
        "id": "whoI2tiyTq9y"
      }
    },
    {
      "cell_type": "code",
      "source": [
        "def thresh(x, shape, thr = -1):\n",
        "    return np.append(x, np.asarray([thr]*shape).reshape(shape, 1), axis = 1)"
      ],
      "metadata": {
        "id": "-c8gGX3gEBcc"
      },
      "execution_count": 3,
      "outputs": []
    },
    {
      "cell_type": "markdown",
      "source": [
        "**Define a class for implimenting recirculation algorithm**"
      ],
      "metadata": {
        "id": "kkht5GhMT3X5"
      }
    },
    {
      "cell_type": "code",
      "source": [
        "class Recirculation:\n",
        "    def __init__(self, input_shape: int, hidden_units: int, activation: str, learning_rate: float, regression_rate: float):\n",
        "        self.lr_ = learning_rate # Set learning rate\n",
        "        self.reg_ = regression_rate # Set regression rate\n",
        "\n",
        "        # Modifying hidden units shape by inserting output shape precisely as same as the input shape\n",
        "        if type(hidden_units) == int:\n",
        "            hidden_units = np.append(np.asarray([hidden_units]), input_shape)\n",
        "        else:\n",
        "            hidden_units.append(input_shape)\n",
        "        self.nh_ = np.asarray(hidden_units)\n",
        "\n",
        "        # Weight random initialization using a uniform distribution with values between -.5-.5\n",
        "        self.w_ = [np.random.uniform(-.5, .5, (input_shape + 1, hidden_units[0]))]\n",
        "        for n in range(int(len(hidden_units) - 1)):\n",
        "            self.w_.append(np.random.uniform(-.5, .5, (hidden_units[n] + 1, hidden_units[n + 1])))\n",
        "\n",
        "        # Set input shape\n",
        "        self.shape_ = input_shape\n",
        "\n",
        "        # Save mean esquared error\n",
        "        self.err = []\n",
        "\n",
        "        if activation == 'sigmoid':\n",
        "            self.acf_ = lambda x: 1 / (1 + np.exp(-x)) # Sigmoid output values are between 0-1\n",
        "        elif activation == 'relu':\n",
        "            self.acf_ = lambda x: x * (x > 0) # ReLU activation function ignors negative values you can use max(0, x)\n",
        "        elif activation == 'tanh':\n",
        "            self.acf_ = lambda x: np.tanh(x) # Tanh output values are in the range -1 to 1\n",
        "        elif activation == 'linear':\n",
        "            self.acf_ = lambda x: x # Linear output values are exactly as same as the input\n",
        "        self.acfn_ = activation\n",
        "\n",
        "    def fit(self, X_data: list or np.ndarray, epochs: int):\n",
        "        for e in tqdm(range(epochs)):\n",
        "            # Computing the output of the layers at the first state\n",
        "            temp_data = [X_data]\n",
        "            for n in range(len(self.nh_)-1):\n",
        "                temp_data.append(self.acf_(thresh(temp_data[n], self.shape_) @ self.w_[n]))\n",
        "            # Approximating the gradient descent at the second state\n",
        "            for n in range(len(self.nh_)):\n",
        "                temp_data.append((self.reg_ * temp_data[n]) + ((1 - self.reg_) * self.acf_(thresh(temp_data[n + len(self.nh_) - 1], self.shape_) @ self.w_[n - 1])))\n",
        "            # Update weights based on approximated GD\n",
        "            for n in range(len(self.nh_)):\n",
        "                self.w_[n - 1] += self.lr_ * thresh(temp_data[n + len(self.nh_) - 1], self.shape_).T @ (temp_data[n] - temp_data[n + len(self.nh_)])\n",
        "            # Computing mean squared error\n",
        "            self.err.append(np.sum(((temp_data[len(self.nh_)] - temp_data[0])**2)/2))\n",
        "            del temp_data\n",
        "        return self.err\n",
        "\n",
        "    # This function returns layer weights based on the layer index\n",
        "    def get_layer_weights(self, layer_index: int):\n",
        "        return self.w_[layer_index][:-1]\n",
        "\n",
        "    # This function returns layer output based on the layer index\n",
        "    def get_layer_output(self, X_data: list, layer_index: int, get_reconstruction: bool):\n",
        "        temp_data = [X_data]\n",
        "        for n in range(len(self.nh_)):\n",
        "            temp_data.append(self.acf_(thresh(temp_data[n], self.shape_) @ self.w_[n]))\n",
        "        if get_reconstruction:\n",
        "            return temp_data[layer_index], temp_data[-1]\n",
        "        else:\n",
        "            return temp_data[layer_index]\n",
        "    \n",
        "    # This function returns model output\n",
        "    def predict(self, pred_data: list, true_val: bool):\n",
        "        temp_data = [pred_data]\n",
        "        for n in range(len(self.nh_)): # If you are going to get logical output set true_val = False\n",
        "            temp_data.append(self.acf_(thresh(temp_data[n], self.shape_) @ self.w_[n]))\n",
        "        if not true_val:\n",
        "            return np.eye(self.shape_)[np.argmax(temp_data[-1], axis = 1)]\n",
        "        else:\n",
        "            return temp_data[-1]\n",
        "    \n",
        "    # By calling this function you can plot the training error\n",
        "    def plot_error(self):\n",
        "        x = np.arange(1, len(self.err) + 1, step = 1)\n",
        "        plt.plot(x, self.err, label = 'MSE', linewidth = 2, color = 'r')\n",
        "        plt.axhline(y = .1, color = 'b', linestyle = '-.')\n",
        "        plt.vlines(x = 48, ymin = 0, ymax = self.err[47], color = 'g', linestyle = '-.')\n",
        "        plt.text(x = 49, y = self.err[47]*1.01, s = f'Epoch: 48 - MSE: {self.err[47]:.4f}!')\n",
        "        plt.text(x = 10, y = .101, s = f'MSE: 0.1')\n",
        "        plt.title(f'Training History (Activation: {self.acfn_})')\n",
        "        plt.ylabel('Mean Squared Error')\n",
        "        plt.xlabel('Epoch')\n",
        "        plt.xticks(x[::9])\n",
        "        plt.xlim([0, 101])\n",
        "        plt.ylim([np.min(self.err)*.8, np.max(self.err)*1.01])\n",
        "        plt.legend()\n",
        "        plt.show()"
      ],
      "metadata": {
        "id": "MNtAOf2TxYmH"
      },
      "execution_count": 4,
      "outputs": []
    },
    {
      "cell_type": "markdown",
      "source": [
        "**Set inputs as mentioned in the paper:**\n",
        "*   \"...The visible vectors were **1000**, **0100**, **0010** and **0001**...\"\n",
        "\n"
      ],
      "metadata": {
        "id": "_RgsAfV9UPzZ"
      }
    },
    {
      "cell_type": "code",
      "source": [
        "train_data = np.eye(4)\n",
        "train_data"
      ],
      "metadata": {
        "colab": {
          "base_uri": "https://localhost:8080/"
        },
        "id": "lzW0UNSwxYkB",
        "outputId": "2255907a-1cdc-4f42-8af1-0217e88fd965"
      },
      "execution_count": 5,
      "outputs": [
        {
          "output_type": "execute_result",
          "data": {
            "text/plain": [
              "array([[1., 0., 0., 0.],\n",
              "       [0., 1., 0., 0.],\n",
              "       [0., 0., 1., 0.],\n",
              "       [0., 0., 0., 1.]])"
            ]
          },
          "metadata": {},
          "execution_count": 5
        }
      ]
    },
    {
      "cell_type": "markdown",
      "source": [
        "**Set Parameters of training according to page 363**\n",
        "\n",
        "Somewhere on page 363 have written:\n",
        "*   ... the 2 hidden units ...\n",
        "*   ... $\\lambda$ of 0.75 ...\n",
        "*   ... \n",
        "\n",
        "\n",
        "\n"
      ],
      "metadata": {
        "id": "aiQf-oUpUvDg"
      }
    },
    {
      "cell_type": "code",
      "source": [
        "params = {\n",
        "    'input_shape': train_data.shape[0],\n",
        "    'hidden_units': 2,\n",
        "    'activation_function': 'sigmoid',\n",
        "    'learning_rate': 1.,\n",
        "    'regression_rate': .75,\n",
        "    'epochs': 100\n",
        "}"
      ],
      "metadata": {
        "id": "S-VKTuaQ8QNf"
      },
      "execution_count": 6,
      "outputs": []
    },
    {
      "cell_type": "markdown",
      "source": [
        "**Pass arguments to the defined class**"
      ],
      "metadata": {
        "id": "282BtTn_WzLi"
      }
    },
    {
      "cell_type": "code",
      "source": [
        "ac = Recirculation(\n",
        "    input_shape = params['input_shape'], \n",
        "    hidden_units = params['hidden_units'], \n",
        "    activation = params['activation_function'], \n",
        "    learning_rate = params['learning_rate'], \n",
        "    regression_rate = params['regression_rate']\n",
        ")"
      ],
      "metadata": {
        "id": "ZOc5To_HxYhq"
      },
      "execution_count": 7,
      "outputs": []
    },
    {
      "cell_type": "markdown",
      "source": [
        "**Fit the model**"
      ],
      "metadata": {
        "id": "qEZjgK_jXG7Q"
      }
    },
    {
      "cell_type": "code",
      "source": [
        "hist = ac.fit(train_data, epochs = params['epochs'])"
      ],
      "metadata": {
        "colab": {
          "base_uri": "https://localhost:8080/"
        },
        "id": "opfCQCq9QVoB",
        "outputId": "7fdac62f-3f8e-43dc-8238-5cd473f5b8da"
      },
      "execution_count": 8,
      "outputs": [
        {
          "output_type": "stream",
          "name": "stderr",
          "text": [
            "100%|██████████| 100/100 [00:00<00:00, 4083.00it/s]\n"
          ]
        }
      ]
    },
    {
      "cell_type": "markdown",
      "source": [
        "**Graph mean squared error over training**\n",
        "\n",
        "**-NOTE:** *According to my understanding of the paper, the error reached less than 0.1 at epoch 48, based on page 363!*"
      ],
      "metadata": {
        "id": "jUK8ghFhXL0B"
      }
    },
    {
      "cell_type": "code",
      "source": [
        "ac.plot_error()"
      ],
      "metadata": {
        "colab": {
          "base_uri": "https://localhost:8080/",
          "height": 427
        },
        "id": "ltyMXjvOdsC-",
        "outputId": "aa6f104a-2588-4095-ae84-9bd4a5739f8a"
      },
      "execution_count": 9,
      "outputs": [
        {
          "output_type": "display_data",
          "data": {
            "text/plain": [
              "<Figure size 720x432 with 1 Axes>"
            ],
            "image/png": "[encoded data removed]"
          },
          "metadata": {}
        }
      ]
    },
    {
      "cell_type": "markdown",
      "source": [
        "**Get the actual output of the model**"
      ],
      "metadata": {
        "id": "jaarZFSGXi9q"
      }
    },
    {
      "cell_type": "code",
      "source": [
        "y_pred = ac.predict(pred_data = train_data, true_val = True)\n",
        "y_pred"
      ],
      "metadata": {
        "id": "EVSCeN_ij4fm",
        "colab": {
          "base_uri": "https://localhost:8080/"
        },
        "outputId": "12678a37-3b02-456b-fea6-99f60fd25b54"
      },
      "execution_count": 10,
      "outputs": [
        {
          "output_type": "execute_result",
          "data": {
            "text/plain": [
              "array([[0.31598457, 0.17161392, 0.2971388 , 0.19567734],\n",
              "       [0.24278108, 0.39968421, 0.20392348, 0.26045155],\n",
              "       [0.27014207, 0.12920857, 0.31589674, 0.23648932],\n",
              "       [0.20032735, 0.2187787 , 0.2539657 , 0.31720844]])"
            ]
          },
          "metadata": {},
          "execution_count": 10
        }
      ]
    },
    {
      "cell_type": "markdown",
      "source": [
        "**Get decoded (argmax) output of the model**"
      ],
      "metadata": {
        "id": "hGcxuMI_YSCO"
      }
    },
    {
      "cell_type": "code",
      "source": [
        "y_pred = ac.predict(pred_data = train_data, true_val = False)\n",
        "y_pred"
      ],
      "metadata": {
        "colab": {
          "base_uri": "https://localhost:8080/"
        },
        "id": "4O5t2CW6G45X",
        "outputId": "cd10223d-1d98-42d1-94cd-e278bcd66238"
      },
      "execution_count": 11,
      "outputs": [
        {
          "output_type": "execute_result",
          "data": {
            "text/plain": [
              "array([[1., 0., 0., 0.],\n",
              "       [0., 1., 0., 0.],\n",
              "       [0., 0., 1., 0.],\n",
              "       [0., 0., 0., 1.]])"
            ]
          },
          "metadata": {},
          "execution_count": 11
        }
      ]
    },
    {
      "cell_type": "markdown",
      "source": [
        "# **ABSTRACT**\n",
        "\n",
        "*We describe a new learning procedure for networks that contain groups of non- linear units arranged in a closed loop. The aim of  the learning  is to discover  codes that allow the activity vectors in a \"visible\" group to be  represented  by  activity vectors in a \"hidden\" group. One way to test whether a code is an accurate representation is to try to reconstruct the visible vector from the hidden vector. The difference between the original and the reconstructed visible vectors is called the reconstruction error, and ihe learning procedure aims to minimize this error. The learning procedure has two passes. On the first  pass,  the  original  visible  vector  is passed around the loop, and on the second pass an average of the origirial vector and the reconstructed vector is passed around  the  loop.  The  learning  procedure  changes each weight by an amount proportional to the product of the  \"presynaptic\"  actiYity and the difference in the post-synaptic activity on the two passes. This procedure is much simpler to implement than methods like back-propagation.  Simulations  in simple networks show that it usually converges rapidly on a good set of codes, and analysis shows that in certain restricted cases it performs gradient descent in  the squared reconstruction error.*"
      ],
      "metadata": {
        "id": "SYz5S7qma9w7"
      }
    },
    {
      "cell_type": "markdown",
      "source": [
        "**Paper link**\n",
        "\n",
        "https://proceedings.neurips.cc/paper/1987/file/35f4a8d465e6e1edc05f3d8ab658c551-Paper.pdf"
      ],
      "metadata": {
        "id": "gotqCCGZ4Sjm"
      }
    },
    {
      "cell_type": "code",
      "source": [
        ""
      ],
      "metadata": {
        "id": "FmJ3-nKe4hs-"
      },
      "execution_count": 11,
      "outputs": []
    }
  ]
}