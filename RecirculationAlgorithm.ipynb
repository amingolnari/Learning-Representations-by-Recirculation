{
  "nbformat": 4,
  "nbformat_minor": 0,
  "metadata": {
    "colab": {
      "name": "RecirculationAlgorithm.ipynb",
      "provenance": [],
      "collapsed_sections": []
    },
    "kernelspec": {
      "name": "python3",
      "display_name": "Python 3"
    },
    "language_info": {
      "name": "python"
    },
    "gpuClass": "standard"
  },
  "cells": [
    {
      "cell_type": "markdown",
      "source": [
        "[![Open In Colab](https://colab.research.google.com/assets/colab-badge.svg)](https://colab.research.google.com/github/amingolnari/Learning-Representations-by-Recirculation/blob/main/RecirculationAlgorithm.ipynb)"
      ],
      "metadata": {
        "id": "5QTiaCor3J_n"
      }
    },
    {
      "cell_type": "markdown",
      "source": [
        "***A simple autoencoder implementation using recirculation algorithm which presented by:***\n",
        "\n",
        "# **LEARNING REPRESENTATIONS BY RECIRCULATION**\n",
        "\n",
        "**Geoffrey E. Hinton**\n",
        "\n",
        "* *Computer Science and Psychology Departments, University of Toronto, \n",
        "Toronto M5S lA4, Canada*\n",
        "\n",
        "**James L. McClelland** \n",
        "\n",
        "* *Psychology and Computer Science Departments, Carnegie-Mellon University, \n",
        "Pittsburgh, PA 15213*\n",
        "\n",
        "***Note: You can read the abstract and download the original paper at the end of this file.***"
      ],
      "metadata": {
        "id": "0UfV2-toZK8B"
      }
    },
    {
      "cell_type": "markdown",
      "source": [
        "**Import requirements**"
      ],
      "metadata": {
        "id": "6Nk3KyAoS_H0"
      }
    },
    {
      "cell_type": "code",
      "execution_count": 1,
      "metadata": {
        "id": "d2Ym4Rvh_18B"
      },
      "outputs": [],
      "source": [
        "import numpy as np\n",
        "import matplotlib.pyplot as plt\n",
        "from tqdm import tqdm\n",
        "from typing import Union\n",
        "import numpy.typing as npt\n",
        "%matplotlib inline"
      ]
    },
    {
      "cell_type": "markdown",
      "source": [
        "**Update Matplotlib parameters for a better representation**"
      ],
      "metadata": {
        "id": "rKA3hSadTOJH"
      }
    },
    {
      "cell_type": "code",
      "source": [
        "plt.style.use('seaborn')\n",
        "plt.rcParams.update({'figure.figsize': [10., 6.], 'font.size': 20, 'axes.titlesize': 20, 'axes.labelsize': 20, \n",
        "                     'xtick.labelsize': 20, 'ytick.labelsize': 20, 'legend.fontsize': 20})"
      ],
      "metadata": {
        "id": "ah4iuY1J5MLH"
      },
      "execution_count": 2,
      "outputs": []
    },
    {
      "cell_type": "markdown",
      "source": [
        "**Define a method to add threshold**"
      ],
      "metadata": {
        "id": "whoI2tiyTq9y"
      }
    },
    {
      "cell_type": "code",
      "source": [
        "def thresh(x, shape, thr = 1):\n",
        "    \"\"\"\n",
        "    :param x:\n",
        "        -- list or numpy-array\n",
        "    input array to insert threshold for each nodes\n",
        "    :param shape:\n",
        "        -- integer\n",
        "    The shape of input\n",
        "    :param thr:\n",
        "        -- float or int\n",
        "    Desired value for inserting threshold to each node\n",
        "    :return:\n",
        "    \"\"\"\n",
        "    if type(x) == list:\n",
        "        x = np.asarray(x)\n",
        "    if len(list(x.shape)) == 1:\n",
        "        x = x.reshape((1, shape))\n",
        "    return np.append(x, np.asarray([[thr]]*x.shape[0]).reshape(x.shape[0], 1), axis = 1)"
      ],
      "metadata": {
        "id": "-c8gGX3gEBcc"
      },
      "execution_count": 3,
      "outputs": []
    },
    {
      "cell_type": "markdown",
      "source": [
        "**Define a class for implimenting recirculation algorithm**"
      ],
      "metadata": {
        "id": "kkht5GhMT3X5"
      }
    },
    {
      "cell_type": "code",
      "source": [
        "class Recirculation:\n",
        "    def __init__(self, input_shape: int, hidden_units: Union[int, list] = 4, activation: str = 'linear', learning_rate: float = 1., regression_rate: float = .75):\n",
        "        \"\"\"\n",
        "        :param input_shape:\n",
        "            -- integer (The shape of the input)\n",
        "        The input shape should be 1D, so you have to pass the input_shape to the class as an integer.\n",
        "        :param hidden_units:\n",
        "            -- integer, list or (1D) numpy-array. (The number of hidden units and layers)\n",
        "        This parameter specifies the number of layers and number of neurons in each layer. You will have just one layer with an\n",
        "        N-number nodes if you set it as an integer N. Otherwise, You will have a model with the number of layers equal to the length\n",
        "        of hidden_units, where each element represent the number of neurons in that layer if you set it as a list or an numpy-array.\n",
        "        default: 4\n",
        "        :param activation:\n",
        "            -- string (The activation function)\n",
        "        This parameter set an activation function to the layers. You have to pass it to the class as a string.\n",
        "        possible functions you can choose: {'linear', 'relu', 'sigmoid', 'tanh'}.\n",
        "        default: linear\n",
        "        :param learning_rate:\n",
        "            -- float (The learning rate)\n",
        "        You can set a learning rate by passing this parameter to the class. This parameter can be any but chose a float value.\n",
        "        default: 1.0\n",
        "        :param regression_rate:\n",
        "            -- float (The regression rate)\n",
        "        You can set a regression rate by passing this parameter to the class. This parameter can be any but chose a float value.\n",
        "        The paper mentioned it with a value of 0.75.\n",
        "        default: 0.75\n",
        "        :return:\n",
        "            -- Nothing! :-)\n",
        "        \"\"\"\n",
        "        list_of_activation_functions = ['sigmoid', 'relu', 'tanh', 'linear']\n",
        "        if activation not in list_of_activation_functions:\n",
        "            raise ValueError(f'You have to choose one of the following activation functions:\\n{list_of_activation_functions}\\nYou are trying to pass the parameter {activation}')\n",
        "        self.lr_ = learning_rate  # Set learning rate.\n",
        "        self.reg_ = regression_rate  # Set regression rate.\n",
        "\n",
        "        # Modifying hidden units shape by inserting output shape precisely as same as the input shape.\n",
        "        if type(hidden_units) == int:\n",
        "            hidden_units = np.append(np.asarray([hidden_units]), input_shape)\n",
        "        elif type(hidden_units) == list:\n",
        "            hidden_units.append(input_shape)\n",
        "        elif type(hidden_units).__name__ == 'ndarray':\n",
        "            hidden_units = np.append(hidden_units, input_shape)\n",
        "        else:\n",
        "            raise ValueError(f'You have to set the hidden_units parameter as type of list or integer. The type of parameter you are trying to pass is {type(hidden_units)}')\n",
        "        self.nh_ = np.asarray(hidden_units)\n",
        "\n",
        "        # Weight random initialization using a uniform distribution with values between -0.5 - +0.5.\n",
        "        self.w_ = [np.random.uniform(-.5, .5, (input_shape + 1, hidden_units[0]))]\n",
        "        for n in range(int(len(hidden_units) - 1)):\n",
        "            self.w_.append(np.random.uniform(-.5, .5, (hidden_units[n] + 1, hidden_units[n + 1])))\n",
        "\n",
        "        # Save mean squared error.\n",
        "        self.err = []\n",
        "\n",
        "        if activation == 'sigmoid':\n",
        "            self.acf_ = lambda x: 1 / (1 + np.exp(-x))  # Sigmoid output values are between 0-1.\n",
        "        elif activation == 'relu':\n",
        "            self.acf_ = lambda x: x * (x > 0)  # ReLU activation function ignores negative values you can use max(0, x).\n",
        "        elif activation == 'tanh':\n",
        "            self.acf_ = lambda x: np.tanh(x)  # Tanh output values are in the range -1 to 1.\n",
        "        elif activation == 'linear':\n",
        "            self.acf_ = lambda x: x  # Linear output values are exactly as same as the input.\n",
        "        self.acfn_ = activation\n",
        "\n",
        "    def fit(self, x_data: Union[list, npt.NDArray], epochs: int = 200):\n",
        "        \"\"\"\n",
        "        :param x_data:\n",
        "            -- list or (2D) numpy-array (The training data)\n",
        "        Input training data. You can pass the data as a list or 2D numpy-array to the class by setting this parameter.\n",
        "        :param epochs:\n",
        "            -- integer (The number of epochs for training phase)\n",
        "        The number of epoch for training phase.\n",
        "        :return:\n",
        "            -- list (Training reconstruction error history)\n",
        "        This function returns an array of mean squared errors per epoch.\n",
        "        \"\"\"\n",
        "        if len(list(x_data.shape)) > 2:\n",
        "            raise ValueError(f'The input data should be a 2D array such as the following data:\\n{np.eye(2)}\\nYou are trying to pass an input data with a shape of:\\n{x_data.shape}')\n",
        "        if epochs < 1:\n",
        "            raise ValueError(f'Please set the epochs as a positive integer greater than 1. You are trying to pass a parameter {epochs}!')\n",
        "        for _ in tqdm(range(epochs)):\n",
        "            # Computing the output of the layers at the first state.\n",
        "            temp_data = [x_data]\n",
        "            for n in range(len(self.nh_) - 1):\n",
        "                temp_data.append(self.acf_(thresh(temp_data[n], len(temp_data[n])) @ self.w_[n]))\n",
        "            # Approximating the gradient descent at the second state.\n",
        "            for n in range(len(self.nh_)):\n",
        "                temp_data.append((self.reg_ * temp_data[n]) + ((1 - self.reg_) * self.acf_(thresh(temp_data[n + len(self.nh_) - 1], len(temp_data[n])) @ self.w_[n - 1])))\n",
        "            # Update weights based on approximated GD.\n",
        "            for n in range(len(self.nh_)):\n",
        "                self.w_[n - 1] += self.lr_ * thresh(temp_data[n + len(self.nh_) - 1], len(temp_data[n])).T @ (temp_data[n] - temp_data[n + len(self.nh_)])\n",
        "            # Computing mean squared error. (The difference between the original and the reconstructed visible vector)\n",
        "            self.err.append(np.sum(((temp_data[len(self.nh_)] - temp_data[0]) ** 2) / 2))\n",
        "            del temp_data\n",
        "        return self.err\n",
        "\n",
        "    # This function returns layer weights based on the layer index.\n",
        "    def get_layer_weights(self, layer_index: int = -1):\n",
        "        \"\"\"\n",
        "        :param layer_index:\n",
        "            -- integer\n",
        "        This parameter gets the index of the layer to returns the weights of layer layer_index, so it should be an integer.\n",
        "        If you are going to get the weights of layer n, set this parameter to n.\n",
        "        :return:\n",
        "            -- list\n",
        "        The weights of layer layer_index.\n",
        "        \"\"\"\n",
        "        if layer_index > len(self.w_)-1:\n",
        "            raise ValueError(f'The index you have chosen is out of length. Maximum possible value for layer_index is {len(self.w_)-1}, you set layer_index to {layer_index}')\n",
        "        return self.w_[layer_index]\n",
        "\n",
        "    # This function returns layer output based on the layer index\n",
        "    def get_layer_output(self, x_data: Union[list, npt.NDArray], layer_index: int = -1):\n",
        "        \"\"\"\n",
        "        :param x_data:\n",
        "            -- list or (2D) numpy-array (The training data)\n",
        "        Input training data. You can pass the data as a list or 2D numpy-array to the class by setting this parameter.\n",
        "        :param layer_index:\n",
        "            -- integer\n",
        "        This parameter gets the index of the layer to returns the output of layer layer_index, so it should be an integer.\n",
        "        If you are going to get the weights of layer n, set this parameter to n.\n",
        "        :return:\n",
        "            -- layer output (and reconstruction error)\n",
        "        \"\"\"\n",
        "        if type(x_data) == list:\n",
        "            x_data = np.asarray(x_data)\n",
        "        if len(list(x_data.shape)) > 2:\n",
        "            raise ValueError(f'The input data should be a 2D array such as the following data:\\n{np.eye(2)}\\nYou are trying to pass an input data with a shape of:\\n{x_data.shape}')\n",
        "        if layer_index > len(self.nh_):\n",
        "            raise ValueError(f'The index you have chosen is out of length. Maximum possible value for layer_index is {len(self.nh_)}, you set layer_index to {layer_index}')\n",
        "        temp_data = [x_data]\n",
        "        for n in range(len(self.nh_)):\n",
        "            temp_data.append(self.acf_(thresh(temp_data[n], len(temp_data[n])) @ self.w_[n]))\n",
        "        return temp_data[layer_index]\n",
        "\n",
        "    # This function returns model output\n",
        "    def predict(self, testing_data: Union[list, npt.NDArray], get_logical: bool = True):\n",
        "        \"\"\"\n",
        "        :param testing_data:\n",
        "            -- list or numpy-array (The testing data)\n",
        "        Input testing data. You can pass the data as a list or 2D numpy-array to the class by setting this parameter.\n",
        "        Therefore you can get the output of the model according to the input of testing_data\n",
        "        :param get_logical:\n",
        "            -- boolean\n",
        "        If true, returns the actual output without decoding. Otherwise, returns decoded output using argmax\n",
        "        :return:\n",
        "            -- list\n",
        "        Calling this function returns the prediction of the model based on the testing_data\n",
        "        \"\"\"\n",
        "        if type(testing_data) == list:\n",
        "            x_data = np.asarray(testing_data)\n",
        "        if len(list(testing_data.shape)) > 2:\n",
        "            raise ValueError(f'The input data should be a 2D array such as the following data:\\n{np.eye(2)}\\nYou are trying to pass an input data with a shape of:\\n{testing_data.shape}')\n",
        "        temp_data = [testing_data]\n",
        "        for n in range(len(self.nh_)):  # If you are going to get logical output set get_logical = True\n",
        "            temp_data.append(self.acf_(thresh(temp_data[n], len(temp_data[n])) @ self.w_[n]))\n",
        "        if get_logical:\n",
        "            return np.eye(temp_data[-1].shape[1])[np.array([np.argmax(temp_data[-1], axis = 1)]).reshape(-1)]\n",
        "        else:\n",
        "            return temp_data[-1]\n",
        "\n",
        "    # By calling this function you can plot the training error\n",
        "    def plot_error(self):\n",
        "        \"\"\"\n",
        "        :return:\n",
        "            -- A graph shows mean squared error during training phase\n",
        "        \"\"\"\n",
        "        x = np.arange(1, len(self.err) + 1, step = 1)\n",
        "        plt.plot(x, self.err, label = 'MSE', linewidth = 2, color = 'r')\n",
        "        plt.axhline(y = .1, color = 'b', linestyle = '-.')\n",
        "        plt.vlines(x = 48, ymin = 0, ymax = self.err[47], color = 'g', linestyle = '-.')\n",
        "        plt.text(x = 49, y = self.err[47] * 1.01, s = f'Epoch: 48 - MSE: {self.err[47]:.4f}!')\n",
        "        plt.text(x = 10, y = .101, s = f'MSE: 0.1')\n",
        "        plt.title(f'Training History (Activation: {self.acfn_})')\n",
        "        plt.ylabel('Mean Squared Error')\n",
        "        plt.xlabel('Epoch')\n",
        "        plt.xticks(x[::9])\n",
        "        plt.xlim([0, 101])\n",
        "        plt.ylim([np.min(self.err) * .8, np.max(self.err) * 1.01])\n",
        "        plt.legend()\n",
        "        plt.show()"
      ],
      "metadata": {
        "id": "MNtAOf2TxYmH"
      },
      "execution_count": 4,
      "outputs": []
    },
    {
      "cell_type": "markdown",
      "source": [
        "**Set inputs as mentioned in the paper:**\n",
        "*   \"...The visible vectors were **1000**, **0100**, **0010** and **0001**...\"\n",
        "\n"
      ],
      "metadata": {
        "id": "_RgsAfV9UPzZ"
      }
    },
    {
      "cell_type": "code",
      "source": [
        "train_data = np.eye(4)\n",
        "train_data"
      ],
      "metadata": {
        "colab": {
          "base_uri": "https://localhost:8080/"
        },
        "id": "lzW0UNSwxYkB",
        "outputId": "d27e3035-4b22-4fad-cee9-b5feaaee9709"
      },
      "execution_count": 5,
      "outputs": [
        {
          "output_type": "execute_result",
          "data": {
            "text/plain": [
              "array([[1., 0., 0., 0.],\n",
              "       [0., 1., 0., 0.],\n",
              "       [0., 0., 1., 0.],\n",
              "       [0., 0., 0., 1.]])"
            ]
          },
          "metadata": {},
          "execution_count": 5
        }
      ]
    },
    {
      "cell_type": "markdown",
      "source": [
        "**Set Parameters of training according to page 363**\n",
        "\n",
        "Somewhere on page 363 have written:\n",
        "*   ... the 2 hidden units ...\n",
        "*   ... $\\lambda$ of 0.75 ... (Regression rate for estimating gradient descent state)\n",
        "*   ... $\\epsilon$ of 20 ... (Learning rate for training state. *Why the learning rate should be chosen that much high!!!*) \n",
        "* ... $\\sigma(x_{i}) = \\frac{1}{1+e^{-x_{i}}}$ ... (For hidden units we use the logistic \n",
        "function)"
      ],
      "metadata": {
        "id": "aiQf-oUpUvDg"
      }
    },
    {
      "cell_type": "code",
      "source": [
        "params = {\n",
        "    'input_shape':          train_data.shape[1],\n",
        "    'hidden_units':         2,\n",
        "    'activation_function':  'sigmoid',\n",
        "    'learning_rate':        1., \n",
        "    'regression_rate':      .75,\n",
        "    'epochs':               100\n",
        "}"
      ],
      "metadata": {
        "id": "S-VKTuaQ8QNf"
      },
      "execution_count": 6,
      "outputs": []
    },
    {
      "cell_type": "markdown",
      "source": [
        "**Pass arguments to the defined class**"
      ],
      "metadata": {
        "id": "282BtTn_WzLi"
      }
    },
    {
      "cell_type": "code",
      "source": [
        "ac = Recirculation(input_shape = params['input_shape'], \n",
        "                   hidden_units = params['hidden_units'], \n",
        "                   activation = params['activation_function'], \n",
        "                   learning_rate = params['learning_rate'], \n",
        "                   regression_rate = params['regression_rate'])"
      ],
      "metadata": {
        "id": "ZOc5To_HxYhq"
      },
      "execution_count": 7,
      "outputs": []
    },
    {
      "cell_type": "markdown",
      "source": [
        "**Fit the model**"
      ],
      "metadata": {
        "id": "qEZjgK_jXG7Q"
      }
    },
    {
      "cell_type": "code",
      "source": [
        "hist = ac.fit(train_data, epochs = params['epochs'])"
      ],
      "metadata": {
        "colab": {
          "base_uri": "https://localhost:8080/"
        },
        "id": "opfCQCq9QVoB",
        "outputId": "1ff27e13-ed8c-4408-b5e1-b422711162c5"
      },
      "execution_count": 8,
      "outputs": [
        {
          "output_type": "stream",
          "name": "stderr",
          "text": [
            "100%|██████████| 100/100 [00:00<00:00, 3824.20it/s]\n"
          ]
        }
      ]
    },
    {
      "cell_type": "markdown",
      "source": [
        "**Graph mean squared error over training**\n",
        "\n",
        "**-NOTE:** *According to my understanding of the paper, the error reached less than 0.1 at epoch 48, based on page 363!*\n",
        "\n",
        "*  *...reconstruction error of less than 0.1 on every unit in an **average** of 48 weight updates...*\n",
        "\n",
        "* ...*The squared reconstruction error, $E$:*\n",
        "\n",
        " $E = \\frac{1}{2}\\sum \\limits_{k}[y^{(2)}_{k}-y^{(0)}_{k}]^{2}$"
      ],
      "metadata": {
        "id": "jUK8ghFhXL0B"
      }
    },
    {
      "cell_type": "code",
      "source": [
        "ac.plot_error()"
      ],
      "metadata": {
        "colab": {
          "base_uri": "https://localhost:8080/",
          "height": 427
        },
        "id": "ltyMXjvOdsC-",
        "outputId": "1a0c6ff6-68be-4cea-8083-5c3e0d141a18"
      },
      "execution_count": 9,
      "outputs": [
        {
          "output_type": "display_data",
          "data": {
            "text/plain": [
              "<Figure size 720x432 with 1 Axes>"
            ],
            "image/png": "[encoded data removed]"
          },
          "metadata": {}
        }
      ]
    },
    {
      "cell_type": "markdown",
      "source": [
        "**Generate a test data**"
      ],
      "metadata": {
        "id": "ycnO8zYYDsyd"
      }
    },
    {
      "cell_type": "code",
      "source": [
        "def gen_random_test_data(input_shape: int):\n",
        "    \"\"\"\n",
        "    :param input_shape:\n",
        "        -- integer\n",
        "    The shape of input data\n",
        "    :return:\n",
        "        -- numpy-array\n",
        "    This function returns random sample similar to the shape of the input data \n",
        "    \"\"\"\n",
        "    return np.eye(input_shape)[list(np.random.default_rng().choice(input_shape, np.random.randint(low = 1, high = input_shape + 1, size = 1), replace = False))]"
      ],
      "metadata": {
        "id": "xLIkevSFwVHd"
      },
      "execution_count": 10,
      "outputs": []
    },
    {
      "cell_type": "code",
      "source": [
        "test_data = gen_random_test_data(params['input_shape'])\n",
        "test_data"
      ],
      "metadata": {
        "colab": {
          "base_uri": "https://localhost:8080/"
        },
        "id": "Ie_izci8D0X5",
        "outputId": "283a3c53-ae45-44e5-a0b4-9c633e47fdab"
      },
      "execution_count": 11,
      "outputs": [
        {
          "output_type": "execute_result",
          "data": {
            "text/plain": [
              "array([[0., 1., 0., 0.],\n",
              "       [0., 0., 1., 0.]])"
            ]
          },
          "metadata": {},
          "execution_count": 11
        }
      ]
    },
    {
      "cell_type": "markdown",
      "source": [
        "**Get the actual output of the model**"
      ],
      "metadata": {
        "id": "jaarZFSGXi9q"
      }
    },
    {
      "cell_type": "code",
      "source": [
        "y_pred = ac.predict(testing_data = test_data, get_logical = False)\n",
        "y_pred"
      ],
      "metadata": {
        "id": "EVSCeN_ij4fm",
        "colab": {
          "base_uri": "https://localhost:8080/"
        },
        "outputId": "f04d449d-65d6-4a91-80fe-4ac995458ecc"
      },
      "execution_count": 12,
      "outputs": [
        {
          "output_type": "execute_result",
          "data": {
            "text/plain": [
              "array([[0.19175688, 0.2994169 , 0.25827688, 0.17526189],\n",
              "       [0.19620721, 0.33753755, 0.41551429, 0.12944357]])"
            ]
          },
          "metadata": {},
          "execution_count": 12
        }
      ]
    },
    {
      "cell_type": "markdown",
      "source": [
        "**Get decoded (argmax) output of the model**"
      ],
      "metadata": {
        "id": "hGcxuMI_YSCO"
      }
    },
    {
      "cell_type": "code",
      "source": [
        "y_pred = ac.predict(testing_data = test_data, get_logical = True)\n",
        "y_pred"
      ],
      "metadata": {
        "colab": {
          "base_uri": "https://localhost:8080/"
        },
        "id": "4O5t2CW6G45X",
        "outputId": "dde24ba3-3d4a-4895-8f27-3ae743957670"
      },
      "execution_count": 13,
      "outputs": [
        {
          "output_type": "execute_result",
          "data": {
            "text/plain": [
              "array([[0., 1., 0., 0.],\n",
              "       [0., 0., 1., 0.]])"
            ]
          },
          "metadata": {},
          "execution_count": 13
        }
      ]
    },
    {
      "cell_type": "markdown",
      "source": [
        "**The output of the hidden layer layer_index corresponding to the x_data**"
      ],
      "metadata": {
        "id": "ZvXhJKUMtJ_S"
      }
    },
    {
      "cell_type": "code",
      "source": [
        "l_idx = 1\n",
        "x = [0, 1, 0, 0]\n",
        "hidden_output = ac.get_layer_output(x_data = x, layer_index = l_idx)"
      ],
      "metadata": {
        "id": "VGtBBoBrmdZV"
      },
      "execution_count": 14,
      "outputs": []
    },
    {
      "cell_type": "markdown",
      "source": [
        "**The weights related to the hidden layer layer_index**"
      ],
      "metadata": {
        "id": "D2zKmUQ41a1U"
      }
    },
    {
      "cell_type": "code",
      "source": [
        "# If the hidden unit has an index of (n), then its weights has an index of (n - 1)\n",
        "w = ac.get_layer_weights(l_idx-1)"
      ],
      "metadata": {
        "id": "N4GNvrNnt383"
      },
      "execution_count": 15,
      "outputs": []
    },
    {
      "cell_type": "code",
      "source": [
        "print(f\"Hidden output using multiplying the input data by the extracted weights:\\n{ac.acf_(thresh(x, params['input_shape']) @ w)}\\n\\n\" + \n",
        "      f'Hidden output by calling method get_layer_output:\\n{hidden_output}')"
      ],
      "metadata": {
        "colab": {
          "base_uri": "https://localhost:8080/"
        },
        "id": "OxTMd02fzZFT",
        "outputId": "48ab487c-1b19-4d20-d12c-532d40612309"
      },
      "execution_count": 16,
      "outputs": [
        {
          "output_type": "stream",
          "name": "stdout",
          "text": [
            "Hidden output using multiplying the input data by the extracted weights:\n",
            "[[0.53342023 0.7117894 ]]\n",
            "\n",
            "Hidden output by calling method get_layer_output:\n",
            "[[0.53342023 0.7117894 ]]\n"
          ]
        }
      ]
    },
    {
      "cell_type": "markdown",
      "source": [
        "Yeah It Works! 😀 \n",
        "\n",
        "Have Fun... **1st rule of programming: If it works, don't touch it!**\n",
        "\n",
        "![weird.gif](data:image/gif;base64,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)"
      ],
      "metadata": {
        "id": "SfReppGyGzaM"
      }
    },
    {
      "cell_type": "markdown",
      "source": [
        "**NOTE:** *Using a different activation function instead of logistic, provides a better answer! (Experimentally)*"
      ],
      "metadata": {
        "id": "tJKmD_MblOtl"
      }
    },
    {
      "cell_type": "markdown",
      "source": [
        "# **ABSTRACT**\n",
        "\n",
        "*We describe a new learning procedure for networks that contain groups of non- linear units arranged in a closed loop. The aim of  the learning  is to discover  codes that allow the activity vectors in a \"visible\" group to be  represented  by  activity vectors in a \"hidden\" group. One way to test whether a code is an accurate representation is to try to reconstruct the visible vector from the hidden vector. The difference between the original and the reconstructed visible vectors is called the reconstruction error, and ihe learning procedure aims to minimize this error. The learning procedure has two passes. On the first  pass,  the  original  visible  vector  is passed around the loop, and on the second pass an average of the origirial vector and the reconstructed vector is passed around  the  loop.  The  learning  procedure  changes each weight by an amount proportional to the product of the  \"presynaptic\"  activity and the difference in the post-synaptic activity on the two passes. This procedure is much simpler to implement than methods like back-propagation.  Simulations  in simple networks show that it usually converges rapidly on a good set of codes, and analysis shows that in certain restricted cases it performs gradient descent in  the squared reconstruction error.*\n",
        "\n",
        "**Paper link**\n",
        "\n",
        "https://proceedings.neurips.cc/paper/1987/file/35f4a8d465e6e1edc05f3d8ab658c551-Paper.pdf"
      ],
      "metadata": {
        "id": "SYz5S7qma9w7"
      }
    },
    {
      "cell_type": "code",
      "source": [
        ""
      ],
      "metadata": {
        "id": "FmJ3-nKe4hs-"
      },
      "execution_count": 16,
      "outputs": []
    }
  ]
}
